{
  "nbformat": 4,
  "nbformat_minor": 0,
  "metadata": {
    "colab": {
      "provenance": [],
      "toc_visible": true,
      "authorship_tag": "ABX9TyPaVBdCfdoymAy8WZcyb9/J",
      "include_colab_link": true
    },
    "kernelspec": {
      "name": "python3",
      "display_name": "Python 3"
    },
    "language_info": {
      "name": "python"
    }
  },
  "cells": [
    {
      "cell_type": "markdown",
      "metadata": {
        "id": "view-in-github",
        "colab_type": "text"
      },
      "source": [
        "<a href=\"https://colab.research.google.com/github/shives-tkt/Final-pro-1/blob/main/PRO_1_py.ipynb\" target=\"_parent\"><img src=\"https://colab.research.google.com/assets/colab-badge.svg\" alt=\"Open In Colab\"/></a>"
      ]
    },
    {
      "cell_type": "code",
      "execution_count": null,
      "metadata": {
        "id": "ENYnwcWoxXMy"
      },
      "outputs": [],
      "source": [
        "pip install pandas numpy matplotlib seaborn scikit-learn\n",
        "import pandas as pd\n",
        "\n",
        "# Load the dataset\n",
        "file_path = \"path_to_dataset.csv\"  # Replace with your dataset's path\n",
        "data = pd.read_csv(file_path)\n",
        "\n",
        "# Preview the dataset\n",
        "print(data.head())\n",
        "print(data.info())\n",
        "print(data.describe())\n",
        "# Handle missing values by filling them with the mean (example)\n",
        "data.fillna(data.mean(), inplace=True)\n",
        "\n",
        "# Handle categorical variables (if any)\n",
        "data = pd.get_dummies(data, drop_first=True)\n",
        "\n",
        "# Check for duplicate rows\n",
        "data.drop_duplicates(inplace=True)\n",
        "import matplotlib.pyplot as plt\n",
        "import seaborn as sns\n",
        "\n",
        "# Plot population density vs risk (example)\n",
        "sns.scatterplot(x=data['population_density'], y=data['risk_level'])\n",
        "plt.title(\"Population Density vs. Risk Level\")\n",
        "plt.show()\n",
        "\n",
        "# Distribution of risk levels\n",
        "sns.countplot(x='risk_level', data=data)\n",
        "plt.title(\"Distribution of Risk Levels\")\n",
        "plt.show()\n",
        "from sklearn.cluster import KMeans\n",
        "from sklearn.preprocessing import StandardScaler\n",
        "\n",
        "# Scale the data\n",
        "scaler = StandardScaler()\n",
        "scaled_data = scaler.fit_transform(data.drop(['region', 'risk_level'], axis=1))  # Exclude non-numeric columns\n",
        "\n",
        "# Perform clustering\n",
        "kmeans = KMeans(n_clusters=3, random_state=42)\n",
        "data['cluster'] = kmeans.fit_predict(scaled_data)\n",
        "\n",
        "# Visualize clusters\n",
        "sns.scatterplot(x=scaled_data[:, 0], y=scaled_data[:, 1], hue=data['cluster'], palette='viridis')\n",
        "plt.title(\"Clusters of Regions by Risk Level\")\n",
        "plt.show()\n",
        "from sklearn.model_selection import train_test_split\n",
        "from sklearn.linear_model import LogisticRegression\n",
        "from sklearn.metrics import classification_report, accuracy_score\n",
        "\n",
        "# Prepare data\n",
        "X = data.drop(['risk_level', 'region', 'cluster'], axis=1)\n",
        "y = data['risk_level']  # Assuming risk_level is the target\n",
        "\n",
        "# Train-test split\n",
        "X_train, X_test, y_train, y_test = train_test_split(X, y, test_size=0.2, random_state=42)\n",
        "\n",
        "# Train the model\n",
        "clf = LogisticRegression()\n",
        "clf.fit(X_train, y_train)\n",
        "\n",
        "# Evaluate the model\n",
        "y_pred = clf.predict(X_test)\n",
        "print(\"Accuracy:\", accuracy_score(y_test, y_pred))\n",
        "print(classification_report(y_test, y_pred))\n",
        "# Assuming you have latitude and longitude columns\n",
        "plt.scatter(data['longitude'], data['latitude'], c=data['risk_level'], cmap='Reds', alpha=0.6)\n",
        "plt.colorbar(label='Risk Level')\n",
        "plt.title(\"Heat Map of Disease Outbreak Risk\")\n",
        "plt.xlabel(\"Longitude\")\n",
        "plt.ylabel(\"Latitude\")\n",
        "plt.show()\n",
        "\n"
      ]
    }
  ]
}